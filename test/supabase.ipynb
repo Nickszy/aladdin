{
 "cells": [
  {
   "cell_type": "code",
   "execution_count": 1,
   "metadata": {},
   "outputs": [],
   "source": [
    "from functools import lru_cache\n",
    "from dotenv import load_dotenv\n",
    "import os\n",
    "\n",
    "load_dotenv()  # 加载 .env 文件\n",
    "url = os.environ.get(\"SUPABASE_URL\")\n",
    "key = os.environ.get(\"SUPABASE_KEY\")\n",
    "\n",
    "from supabase import (\n",
    "    create_client,\n",
    "    Client,\n",
    "    AsyncClient,\n",
    "    create_async_client,\n",
    "    acreate_client,\n",
    ")\n",
    "\n",
    "\n",
    "supabase: Client = create_client(url, key)\n",
    "\n"
   ]
  },
  {
   "cell_type": "code",
   "execution_count": 2,
   "metadata": {},
   "outputs": [
    {
     "data": {
      "text/plain": [
       "APIResponse[~_ReturnT](data=[{'id': '54220857250536448', 'title': '洪灝的宏观策略的微博', 'description': '《亚洲私人银行家》、《亚洲货币》年度经济学家和策略师; 《彭博商周》年度人物，“预测中国泡沫始末之人”;《预测》FT、中信年度书籍;CFA品牌代言人 - Powered by RSSHub', 'image': 'https://tvax4.sinaimg.cn/crop.0.0.350.350.180/008vOXu3ly8hb838iq9rgj309q09q74k.jpg?KID=imgbed,tva&Expires=1758910598&ssig=r4SrQq2%2Fm5', 'url': 'rsshub://weibo/user/7799274131', 'ownerUserId': None, 'ttl': 30, 'language': None, 'platform': '微博', 'siteUrl': 'https://weibo.com/7799274131/', 'errorAt': None, 'errorMessage': None, 'lastModifiedHeader': 'Fri, 26 Sep 2025 15:16:45 GMT', 'etagHeader': '\"4df7-OHwiFJa0ue+9Od7rroMop3ZxKHk\"', 'checkedAt': '2025-09-26T15:16:47', 'author_id': '1'}, {'id': '73884799364378654', 'title': '洪灝的宏观策略 - 今天看啥', 'description': '洪灝 ，著名经济学家；著有年度最佳书籍《预测：经济、周期与市场泡沫》；彭博社“中国最精准策略师”，\"预测中国股市泡沫始末之人”;《亚洲货币》最佳经济学家、最佳策略师；CFA品牌代言人。WB：@洪灝的宏观策略；TWT：HaoHong_CFA', 'image': 'http://img.jintiankansha.me/weixin/head/Mzg3NjkxNDEyMA==?imageMogr2/thumbnail/100x100/quality/30/format/webp/strip', 'url': 'http://www.jintiankansha.me/rss/GMZTQMJRGN6DOOLGMI3TGYJXGU4GENBZMYYWINZVMQ2DMM3BHE2GCNJYMQ2DGYTBMVSTCMRVHE4Q====', 'ownerUserId': None, 'ttl': 30, 'language': None, 'platform': '公众号', 'siteUrl': 'http://www.jintiankansha.me/column/DTfuJ2dTbO', 'errorAt': None, 'errorMessage': None, 'lastModifiedHeader': None, 'etagHeader': None, 'checkedAt': '2025-09-22T17:15:31', 'author_id': '1'}, {'id': '54218423243498496', 'title': 'Twitter @Hao HONG 洪灝, CFA', 'description': 'Person of the Year-Bloomberg BW;2xChina’s Most Influential Economist;2xEconomist of the Year-Asia Private Banker;“The man called China’s boom & bust”-Bloomberg - Powered by RSSHub', 'image': 'https://pbs.twimg.com/profile_images/378800000358614242/a1640062237e2f4fc2ecb7b352d87b10_normal.jpeg', 'url': 'rsshub://twitter/user/HAOHONG_CFA', 'ownerUserId': None, 'ttl': 30, 'language': 'cmn', 'platform': 'Twitter', 'siteUrl': 'https://x.com/HAOHONG_CFA', 'errorAt': None, 'errorMessage': None, 'lastModifiedHeader': 'Thu, 25 Sep 2025 03:55:07 GMT', 'etagHeader': '\"3990-mCnLxtJyoOa/eLoExM1WzZ2I6hA\"', 'checkedAt': '2025-09-26T15:21:05', 'author_id': '1'}], count=1)"
      ]
     },
     "execution_count": 2,
     "metadata": {},
     "output_type": "execute_result"
    }
   ],
   "source": [
    "res = (\n",
    "    supabase.table(\"feed\")\n",
    "    .select(\"*\", count=\"planned\")\n",
    "    .eq(\"author_id\", \"1\")\n",
    "    .limit(10)\n",
    "    .execute()\n",
    ")\n",
    "res"
   ]
  },
  {
   "cell_type": "code",
   "execution_count": 3,
   "metadata": {},
   "outputs": [
    {
     "data": {
      "text/plain": [
       "[{'id': '54220857250536448',\n",
       "  'title': '洪灝的宏观策略的微博',\n",
       "  'description': '《亚洲私人银行家》、《亚洲货币》年度经济学家和策略师; 《彭博商周》年度人物，“预测中国泡沫始末之人”;《预测》FT、中信年度书籍;CFA品牌代言人 - Powered by RSSHub',\n",
       "  'image': 'https://tvax4.sinaimg.cn/crop.0.0.350.350.180/008vOXu3ly8hb838iq9rgj309q09q74k.jpg?KID=imgbed,tva&Expires=1758910598&ssig=r4SrQq2%2Fm5',\n",
       "  'url': 'rsshub://weibo/user/7799274131',\n",
       "  'ownerUserId': None,\n",
       "  'ttl': 30,\n",
       "  'language': None,\n",
       "  'platform': '微博',\n",
       "  'siteUrl': 'https://weibo.com/7799274131/',\n",
       "  'errorAt': None,\n",
       "  'errorMessage': None,\n",
       "  'lastModifiedHeader': 'Fri, 26 Sep 2025 15:16:45 GMT',\n",
       "  'etagHeader': '\"4df7-OHwiFJa0ue+9Od7rroMop3ZxKHk\"',\n",
       "  'checkedAt': '2025-09-26T15:16:47',\n",
       "  'author_id': '1'},\n",
       " {'id': '73884799364378654',\n",
       "  'title': '洪灝的宏观策略 - 今天看啥',\n",
       "  'description': '洪灝 ，著名经济学家；著有年度最佳书籍《预测：经济、周期与市场泡沫》；彭博社“中国最精准策略师”，\"预测中国股市泡沫始末之人”;《亚洲货币》最佳经济学家、最佳策略师；CFA品牌代言人。WB：@洪灝的宏观策略；TWT：HaoHong_CFA',\n",
       "  'image': 'http://img.jintiankansha.me/weixin/head/Mzg3NjkxNDEyMA==?imageMogr2/thumbnail/100x100/quality/30/format/webp/strip',\n",
       "  'url': 'http://www.jintiankansha.me/rss/GMZTQMJRGN6DOOLGMI3TGYJXGU4GENBZMYYWINZVMQ2DMM3BHE2GCNJYMQ2DGYTBMVSTCMRVHE4Q====',\n",
       "  'ownerUserId': None,\n",
       "  'ttl': 30,\n",
       "  'language': None,\n",
       "  'platform': '公众号',\n",
       "  'siteUrl': 'http://www.jintiankansha.me/column/DTfuJ2dTbO',\n",
       "  'errorAt': None,\n",
       "  'errorMessage': None,\n",
       "  'lastModifiedHeader': None,\n",
       "  'etagHeader': None,\n",
       "  'checkedAt': '2025-09-22T17:15:31',\n",
       "  'author_id': '1'},\n",
       " {'id': '54218423243498496',\n",
       "  'title': 'Twitter @Hao HONG 洪灝, CFA',\n",
       "  'description': 'Person of the Year-Bloomberg BW;2xChina’s Most Influential Economist;2xEconomist of the Year-Asia Private Banker;“The man called China’s boom & bust”-Bloomberg - Powered by RSSHub',\n",
       "  'image': 'https://pbs.twimg.com/profile_images/378800000358614242/a1640062237e2f4fc2ecb7b352d87b10_normal.jpeg',\n",
       "  'url': 'rsshub://twitter/user/HAOHONG_CFA',\n",
       "  'ownerUserId': None,\n",
       "  'ttl': 30,\n",
       "  'language': 'cmn',\n",
       "  'platform': 'Twitter',\n",
       "  'siteUrl': 'https://x.com/HAOHONG_CFA',\n",
       "  'errorAt': None,\n",
       "  'errorMessage': None,\n",
       "  'lastModifiedHeader': 'Thu, 25 Sep 2025 03:55:07 GMT',\n",
       "  'etagHeader': '\"3990-mCnLxtJyoOa/eLoExM1WzZ2I6hA\"',\n",
       "  'checkedAt': '2025-09-26T15:21:05',\n",
       "  'author_id': '1'}]"
      ]
     },
     "execution_count": 3,
     "metadata": {},
     "output_type": "execute_result"
    }
   ],
   "source": [
    "res.data"
   ]
  },
  {
   "cell_type": "code",
   "execution_count": 7,
   "metadata": {},
   "outputs": [],
   "source": [
    "from datetime import datetime\n",
    "from typing import Optional\n",
    "from pydantic import BaseModel\n",
    "\n",
    "\n",
    "class feed(BaseModel):\n",
    "\n",
    "    id: str\n",
    "    title: Optional[str]\n",
    "    description: Optional[str]\n",
    "    author_id: Optional[str]\n",
    "    image: Optional[str]\n",
    "    # url: str\n",
    "    # ownerUserId: Optional[str]\n",
    "    # ttl: Optional[int]\n",
    "    language: Optional[str]\n",
    "    platform: Optional[str]\n",
    "    # siteUrl: str\n",
    "    # errorAt: Optional[datetime]\n",
    "    # errorMessage: Optional[str]\n",
    "    lastModifiedHeader: Optional[str]\n",
    "    # etagHeader: Optional[str]\n",
    "    checkedAt: datetime"
   ]
  },
  {
   "cell_type": "code",
   "execution_count": 5,
   "metadata": {},
   "outputs": [
    {
     "data": {
      "text/plain": [
       "[feed(id='54220857250536448', title='洪灝的宏观策略的微博', description='《亚洲私人银行家》、《亚洲货币》年度经济学家和策略师; 《彭博商周》年度人物，“预测中国泡沫始末之人”;《预测》FT、中信年度书籍;CFA品牌代言人 - Powered by RSSHub', author_id='1', image='https://tvax4.sinaimg.cn/crop.0.0.350.350.180/008vOXu3ly8hb838iq9rgj309q09q74k.jpg?KID=imgbed,tva&Expires=1758910598&ssig=r4SrQq2%2Fm5', url='rsshub://weibo/user/7799274131', ownerUserId=None, language=None, platform='微博', lastModifiedHeader='Fri, 26 Sep 2025 15:16:45 GMT', etagHeader='\"4df7-OHwiFJa0ue+9Od7rroMop3ZxKHk\"', checkedAt=datetime.datetime(2025, 9, 26, 15, 16, 47)),\n",
       " feed(id='73884799364378654', title='洪灝的宏观策略 - 今天看啥', description='洪灝 ，著名经济学家；著有年度最佳书籍《预测：经济、周期与市场泡沫》；彭博社“中国最精准策略师”，\"预测中国股市泡沫始末之人”;《亚洲货币》最佳经济学家、最佳策略师；CFA品牌代言人。WB：@洪灝的宏观策略；TWT：HaoHong_CFA', author_id='1', image='http://img.jintiankansha.me/weixin/head/Mzg3NjkxNDEyMA==?imageMogr2/thumbnail/100x100/quality/30/format/webp/strip', url='http://www.jintiankansha.me/rss/GMZTQMJRGN6DOOLGMI3TGYJXGU4GENBZMYYWINZVMQ2DMM3BHE2GCNJYMQ2DGYTBMVSTCMRVHE4Q====', ownerUserId=None, language=None, platform='公众号', lastModifiedHeader=None, etagHeader=None, checkedAt=datetime.datetime(2025, 9, 22, 17, 15, 31)),\n",
       " feed(id='54218423243498496', title='Twitter @Hao HONG 洪灝, CFA', description='Person of the Year-Bloomberg BW;2xChina’s Most Influential Economist;2xEconomist of the Year-Asia Private Banker;“The man called China’s boom & bust”-Bloomberg - Powered by RSSHub', author_id='1', image='https://pbs.twimg.com/profile_images/378800000358614242/a1640062237e2f4fc2ecb7b352d87b10_normal.jpeg', url='rsshub://twitter/user/HAOHONG_CFA', ownerUserId=None, language='cmn', platform='Twitter', lastModifiedHeader='Thu, 25 Sep 2025 03:55:07 GMT', etagHeader='\"3990-mCnLxtJyoOa/eLoExM1WzZ2I6hA\"', checkedAt=datetime.datetime(2025, 9, 26, 15, 21, 5))]"
      ]
     },
     "execution_count": 5,
     "metadata": {},
     "output_type": "execute_result"
    }
   ],
   "source": [
    "feed_list= [ feed(**item) for item in res.data]\n",
    "feed_list"
   ]
  },
  {
   "cell_type": "code",
   "execution_count": 6,
   "metadata": {},
   "outputs": [
    {
     "data": {
      "text/plain": [
       "feed(id='54220857250536448', title='洪灝的宏观策略的微博', description='《亚洲私人银行家》、《亚洲货币》年度经济学家和策略师; 《彭博商周》年度人物，“预测中国泡沫始末之人”;《预测》FT、中信年度书籍;CFA品牌代言人 - Powered by RSSHub', author_id='1', image='https://tvax4.sinaimg.cn/crop.0.0.350.350.180/008vOXu3ly8hb838iq9rgj309q09q74k.jpg?KID=imgbed,tva&Expires=1758910598&ssig=r4SrQq2%2Fm5', url='rsshub://weibo/user/7799274131', ownerUserId=None, language=None, platform='微博', lastModifiedHeader='Fri, 26 Sep 2025 15:16:45 GMT', etagHeader='\"4df7-OHwiFJa0ue+9Od7rroMop3ZxKHk\"', checkedAt=datetime.datetime(2025, 9, 26, 15, 16, 47))"
      ]
     },
     "execution_count": 6,
     "metadata": {},
     "output_type": "execute_result"
    }
   ],
   "source": [
    "feed_list[0]"
   ]
  },
  {
   "cell_type": "code",
   "execution_count": 15,
   "metadata": {},
   "outputs": [
    {
     "ename": "NameError",
     "evalue": "name 'current_feed' is not defined",
     "output_type": "error",
     "traceback": [
      "\u001b[31m---------------------------------------------------------------------------\u001b[39m",
      "\u001b[31mNameError\u001b[39m                                 Traceback (most recent call last)",
      "\u001b[36mCell\u001b[39m\u001b[36m \u001b[39m\u001b[32mIn[15]\u001b[39m\u001b[32m, line 14\u001b[39m\n\u001b[32m     12\u001b[39m     \u001b[38;5;28;01melse\u001b[39;00m:\n\u001b[32m     13\u001b[39m         statement = statement.eq(\u001b[33m\"\u001b[39m\u001b[33mfeed.platform\u001b[39m\u001b[33m\"\u001b[39m, platform_filter)\n\u001b[32m---> \u001b[39m\u001b[32m14\u001b[39m \u001b[38;5;28;01mif\u001b[39;00m \u001b[43mcurrent_feed\u001b[49m != []:\n\u001b[32m     15\u001b[39m     statement = statement.in_(\u001b[33m\"\u001b[39m\u001b[33mfeedId\u001b[39m\u001b[33m\"\u001b[39m, [a.id \u001b[38;5;28;01mfor\u001b[39;00m a \u001b[38;5;129;01min\u001b[39;00m current_feed])\n\u001b[32m     16\u001b[39m res = (\n\u001b[32m     17\u001b[39m     \u001b[38;5;28;01mawait\u001b[39;00m statement.order(\u001b[33m\"\u001b[39m\u001b[33mpublishedAt\u001b[39m\u001b[33m\"\u001b[39m, desc=\u001b[38;5;28;01mTrue\u001b[39;00m)\n\u001b[32m     18\u001b[39m     .limit(entries_page_size)\n\u001b[32m     19\u001b[39m     .offset((entries_current_page - \u001b[32m1\u001b[39m) * entries_page_size)\n\u001b[32m     20\u001b[39m     .execute()\n\u001b[32m     21\u001b[39m )\n",
      "\u001b[31mNameError\u001b[39m: name 'current_feed' is not defined"
     ]
    }
   ],
   "source": [
    "# 查询某一作者下所有的entry\n",
    "\n",
    "platform_filter = None\n",
    "statement = supabase.table(\"entry\").select(\n",
    "    \"*,feed!inner(platform,image,title),author!inner(name,id)\", count=\"exact\"\n",
    ")\n",
    "if platform_filter:\n",
    "    if platform_filter == \"其他\":\n",
    "        statement = statement.not_.in_(\"feed.platform\", platform)\n",
    "    elif platform_filter == \"全部\":\n",
    "        None\n",
    "    else:\n",
    "        statement = statement.eq(\"feed.platform\", platform_filter)\n",
    "# if current_feed != []:\n",
    "#     statement = statement.in_(\"feedId\", [a.id for a in current_feed])\n",
    "res = (\n",
    "    await statement.order(\"publishedAt\", desc=True)\n",
    "    .limit(entries_page_size)\n",
    "    .offset((entries_current_page - 1) * entries_page_size)\n",
    "    .execute()\n",
    ")"
   ]
  },
  {
   "cell_type": "code",
   "execution_count": 30,
   "metadata": {},
   "outputs": [
    {
     "data": {
      "text/plain": [
       "[{'id': '187494575577190400',\n",
       "  'guid': 'post-1241',\n",
       "  'feedId': '62295715074255883',\n",
       "  'title': '【MM一周盘前】非农暴雷低于预期，本周魔王数据 CPI 登场！',\n",
       "  'description': '【 MM 一周盘前】8 月非农仅增 2.2 万人！美联储全年降息预期飙升至三码，9 月降息已成定局！美国取消台积电南京厂 VEU 资格，MM 研究员带你回顾过往一周发生的大事，3 分钟速读市场！ 【全球产业决策平台】我们近期于产业决策平台新增国防 / 军工产业专区！结合 300+ 独家指标与 5000+ 美股财报，带你抢先洞察全球局势，掌握投资先机！ 上週全球股市涨跌互见，美股在降息预期激励下，S&amp;P 500 一度创下历史新高。亚股方面出现轮动，陆股涨幅休息，印度股市止稳反弹，其余亚股上涨近 1% ~ 2% 不等，欧股则小幅下跌，于 6…',\n",
       "  'content': '【 MM 一周盘前】8 月非农仅增 2.2 万人！美联储全年降息预期飙升至三码，9 月降息已成定局！美国取消台积电南京厂 VEU 资格，MM 研究员带你回顾过往一周发生的大事，3 分钟速读市场！\\n【全球产业决策平台】我们近期于产业决策平台新增国防 / 军工产业专区！结合 300+ 独家指标与 5000+ 美股财报，带你抢先洞察全球局势，掌握投资先机！\\n\\n\\n\\n\\n上週全球股市涨跌互见，美股在降息预期激励下，S&#x26;amp;P 500 一度创下历史新高。亚股方面出现轮动，陆股涨幅休息，印度股市止稳反弹，其余亚股上涨近 1% ~ 2% 不等，欧股则小幅下跌，于 6 月后呈现盘整格局。值得留意得是，上週全球债市走势动盪，多国 30 年期国债收益率于周间走高，所幸週五非农公佈不如预期数字后，FedWatch 降息机率大升，美国 10 年期国债收益率回落至四月后新低，适当缓解利率压力，与此同时，金价也终于突破区间，创下新高。\\n\\n资料统计期间：2025/8/29 ~ 2025/9/5\\n备註：美金 / 台币、美金 / 日圆属于美式报价，当数字下跌代表台币、日圆相对美元升值\\n\\n\\n【美国】 非农再度暴雷！美联储 9 月降息已成定局\\n\\n\\n美国 8 月 非农就业 月增 2.2 万（前 7.9 万）大幅低于预期，细项中， 教育医疗仍是主要支撑项目，但月增也放缓至 4.6 万（前 7.7 万），此外，全部 12 个产业有 8 个出现月减，突显整体企业招聘需求的脆弱。相对的，失业率 略为回升至 4.3%（前 4.2%）符合市场预期，表现相对稳定，主因劳动供给一同放缓，且 裁员 依旧可控，让就业市场得以暂时维持平衡，静待后续降息。\\n\\n\\n本次数据走弱进一步巩固市场对降息的期待，9/5 数据公佈当日，FedWatch 预期 9 月降息机率达到近 9 成，2025 降息幅度从 2 码扩大至 3 码，市场对 2026 年同步预期续降 3 码幅度，终点利率有望来到 3% 。\\n\\n\\n此外，9/9（二）BLS 即将公佈非农就业初步基准修订结果，目前非农就业与截至 2024Q4 的 QCEW 就业人数相比明显较高，预计非农就业人数也将出现下修，在此背景下，除非下周 9/11 开出的 CPI 数据大超预期，否则美联储 9 月降息 1 码已成定局。\\n\\n\\n何为基准修订？推荐付费阅读：【行情快报】美国经济脆弱性上升，留意就业市场两大关键！\\n\\n\\n\\n【製造业】 8 月美中台製造业 PMI 公佈！好坏参半\\n\\n\\n美国 8 月 製造业 PMI 上升至 48.7（前 48），略低于预期且处于收缩，新订单今年首度回升至扩张区间的 51.4（前 47.1），但生产滑落至 47.8（前 51.4），主要来自关税不确定性带来的成本压力。\\n\\n\\n台湾 8 月 製造业 PMI 小幅减速至 47.9（前 48）， 厂商对未来六个月展望同步回落至 37.6（前 38.6），产业间表现不均，反映对等关税正式落地后，所造成的产业分岐加剧。\\n\\n\\n中国 8 月 官方製造业 PMI 微幅上升至 49.4（前 49.3），生产经营预期回升至 53.7（前 52.6），且财新 PMI 回归 50.5（前 49.5）扩张区，中美关税休战、反内卷改善价格指标、高技术製造业续强三大因素，共同支撑厂商预期。\\n\\n\\n总体而言，我们持续看到关税政策对製造业造成的波动，对等关税在 8/7 确定课征后，提前拉货需求也暂告一段落，所幸台、美、中库存端都位于低檔，使得整体製造业周期有所支撑。\\n\\n\\n进阶付费阅读：【行情快报】关税影响来袭！高频仪表盘带你掌握全球变化\\n\\n\\n\\n\\n\\n\\n【半导体】美国取消台积电南京厂 VEU 资格\\n\\n\\n美国商务部宣布，取消台积电的南京厂「经认证终端用户」（VEU）资格，代表该工厂原本享有的快速购买先进设备的通道，将在 2025 年 12 月 31 日后终止，未来改为「逐案申请审核制」，该行动可视作是对中国设备获取能力的打击。\\n\\n\\n设备禁令最后一次升级是在去年 12/2，美国前总统拜登的任期，其升级了长臂管辖范围，受管製的设备只要部件或技术有任何成分源自美国，即使最终产品在第三国生产，只要被出口到中国就要受禁令管制，当时我们在 短评 分析中就提出，这可能对台、韩、日等地的半导体企业造成潜在影响。\\n\\n\\n但我们看到，中国本土设计的 AI 处理器如寒武纪、华为，开始在重重禁令下崭露头角，在中国市场中逐步蚕食美系处理器市占率，究竟哪些因素，促成中国对算力国产化的极致追求？中国本土 AI 处理器就此迎头赶上美国了吗？中国 AI 绝地突围的凭藉为何？我们在上週新发布的报告中，为你详细解读。\\n\\n\\n进阶付费阅读：【行情快报】中国 AI 处理器大爆发：中美算力突围战正式开打！\\n\\n\\n\\n\\n\\n \\n本周将公佈台湾出口（9/9 二）、美国 CPI（9/11 四）、三大能源机构月报（9/10 、 9/11 三、四）、欧元区利率决策（9/11 四）。',\n",
       "  'author': 'MacroMicro',\n",
       "  'url': 'https://sc.macromicro.me/blog/mm-weekly-pre-market-nfp-miss-below-expectations-this-week-key-data-cpi-arrives',\n",
       "  'media': '[]',\n",
       "  'attachments': None,\n",
       "  'extra': None,\n",
       "  'publishedAt': '2025-09-07T12:26:17.46+00:00',\n",
       "  'insertedAt': '2025-09-07T12:40:05.287+00:00',\n",
       "  'updateAt': '2025-09-15T00:11:34.199378',\n",
       "  'feed': {'id': '62295715074255883',\n",
       "   'image': None,\n",
       "   'title': ' MacroMicro 财经M平方 ',\n",
       "   'author': None,\n",
       "   'platform': None,\n",
       "   'author_id': None}},\n",
       " {'id': '187912032445644800',\n",
       "  'guid': 'https://weibo.com/2135129011/Q3Fz9hvJT',\n",
       "  'feedId': '41491303612243968',\n",
       "  'title': '发挥依旧稳定，这位真的绝了[泪奔] #小米王腾因泄密被辞退# [图片]',\n",
       "  'description': '发挥依旧稳定，这位真的绝了[泪奔] #小米王腾因泄密被辞退#',\n",
       "  'content': '发挥依旧稳定，这位真的绝了[泪奔] <br><br><a href=\"https://m.weibo.cn/search?containerid=231522type%3D1%26t%3D10%26q%3D%23%E5%B0%8F%E7%B1%B3%E7%8E%8B%E8%85%BE%E5%9B%A0%E6%B3%84%E5%AF%86%E8%A2%AB%E8%BE%9E%E9%80%80%23&#x26;extparam=%23%E5%B0%8F%E7%B1%B3%E7%8E%8B%E8%85%BE%E5%9B%A0%E6%B3%84%E5%AF%86%E8%A2%AB%E8%BE%9E%E9%80%80%23\" target=\"_blank\"><span>#小米王腾因泄密被辞退#</span></a> <img width=\"1280\" height=\"2844\" style=\"width: 1280px;height: 2844px;\" src=\"https://tvax2.sinaimg.cn/large/7f437bb3ly1i56phvjbebj20zk270wug.jpg\">',\n",
       "  'author': '孙少军09',\n",
       "  'url': 'https://weibo.com/2135129011/Q3Fz9hvJT',\n",
       "  'media': None,\n",
       "  'attachments': None,\n",
       "  'extra': None,\n",
       "  'publishedAt': '2025-09-08T15:34:41.532+00:00',\n",
       "  'insertedAt': '2025-09-08T16:18:54.614+00:00',\n",
       "  'updateAt': '2025-09-15T00:11:34.199378',\n",
       "  'feed': {'id': '41491303612243968',\n",
       "   'image': 'https://tvax2.sinaimg.cn/crop.0.0.1080.1080.180/7f437bb3ly8hgf9qaxrlwj20u00u0q4f.jpg?KID=imgbed,tva&Expires=1758907964&ssig=YeqWsdS7b%2F',\n",
       "   'title': '孙少军09的微博',\n",
       "   'author': None,\n",
       "   'platform': '微博',\n",
       "   'author_id': None}},\n",
       " {'id': '187893375914189824',\n",
       "  'guid': 'https://twitter.com/wallstengine/status/1965067312958226723',\n",
       "  'feedId': '105496543958773760',\n",
       "  'title': 'U.S. SUPREME COURT ALLOWS TRUMP TO REMOVE DEMOCRATIC MEMBER OF FEDERAL TRADE COMMISSION FOR NOW',\n",
       "  'description': 'U.S. SUPREME COURT ALLOWS TRUMP TO REMOVE DEMOCRATIC MEMBER OF FEDERAL TRADE COMMISSION FOR NOW',\n",
       "  'content': 'U.S. SUPREME COURT ALLOWS TRUMP TO REMOVE DEMOCRATIC MEMBER OF FEDERAL TRADE COMMISSION FOR NOW',\n",
       "  'author': 'Wall St Engine',\n",
       "  'url': 'https://x.com/wallstengine/status/1965067312958226723',\n",
       "  'media': '[]',\n",
       "  'attachments': None,\n",
       "  'extra': None,\n",
       "  'publishedAt': '2025-09-08T14:58:51.028+00:00',\n",
       "  'insertedAt': '2025-09-08T15:04:46.556+00:00',\n",
       "  'updateAt': '2025-09-15T00:11:34.199378',\n",
       "  'feed': {'id': '105496543958773760',\n",
       "   'image': 'https://pbs.twimg.com/profile_images/1691846947857178624/oZp5wB4r.jpg',\n",
       "   'title': 'Twitter @Wall St Engine',\n",
       "   'author': None,\n",
       "   'platform': 'Twitter',\n",
       "   'author_id': None}},\n",
       " {'id': '187893375914189825',\n",
       "  'guid': 'https://twitter.com/wallstengine/status/1965065721551147317',\n",
       "  'feedId': '105496543958773760',\n",
       "  'title': \"$NVDA'S CEO HUANG TO ACCOMPANY TRUMP AT STATE BANQUET IN UK: SKY\",\n",
       "  'description': \"$NVDA'S CEO HUANG TO ACCOMPANY TRUMP AT STATE BANQUET IN UK: SKY\",\n",
       "  'content': '$NVDA\\'S CEO HUANG TO ACCOMPANY TRUMP AT STATE BANQUET IN UK: SKY<br><img width=\"700\" height=\"478\" style=\"\" src=\"https://pbs.twimg.com/media/G0VQ2jnboAAsArL?format=png&#x26;name=orig\">',\n",
       "  'author': 'Wall St Engine',\n",
       "  'url': 'https://x.com/wallstengine/status/1965065721551147317',\n",
       "  'media': None,\n",
       "  'attachments': None,\n",
       "  'extra': None,\n",
       "  'publishedAt': '2025-09-08T14:52:31.229+00:00',\n",
       "  'insertedAt': '2025-09-08T15:04:46.555+00:00',\n",
       "  'updateAt': '2025-09-15T00:11:34.199378',\n",
       "  'feed': {'id': '105496543958773760',\n",
       "   'image': 'https://pbs.twimg.com/profile_images/1691846947857178624/oZp5wB4r.jpg',\n",
       "   'title': 'Twitter @Wall St Engine',\n",
       "   'author': None,\n",
       "   'platform': 'Twitter',\n",
       "   'author_id': None}},\n",
       " {'id': '187904362076430336',\n",
       "  'guid': 'https://twitter.com/chaomeigu_com/status/1965063769438257570',\n",
       "  'feedId': '57227011377878016',\n",
       "  'title': '哟，傅盛给我点了个赞... 不过我今年主要做何小鹏的小鹏汽车了😄',\n",
       "  'description': '哟，傅盛给我点了个赞... 不过我今年主要做何小鹏的小鹏汽车了😄',\n",
       "  'content': '哟，傅盛给我点了个赞... 不过我今年主要做何小鹏的小鹏汽车了😄<br><img width=\"1080\" height=\"548\" style=\"\" src=\"https://pbs.twimg.com/media/G0VPFP0a0AAOxk-?format=jpg&#x26;name=orig\"><br><img width=\"1080\" height=\"1680\" style=\"\" src=\"https://pbs.twimg.com/media/G0VPFSgbMAA6GAh?format=jpg&#x26;name=orig\">',\n",
       "  'author': '美股带哥',\n",
       "  'url': 'https://x.com/chaomeigu_com/status/1965063769438257570',\n",
       "  'media': None,\n",
       "  'attachments': None,\n",
       "  'extra': None,\n",
       "  'publishedAt': '2025-09-08T14:44:46.072+00:00',\n",
       "  'insertedAt': '2025-09-08T15:48:25.894+00:00',\n",
       "  'updateAt': '2025-09-15T00:11:34.199378',\n",
       "  'feed': {'id': '57227011377878016',\n",
       "   'image': 'https://pbs.twimg.com/profile_images/1911734662231130112/YyBTXqOA.jpg',\n",
       "   'title': 'Twitter @美股带哥',\n",
       "   'author': None,\n",
       "   'platform': 'Twitter',\n",
       "   'author_id': None}},\n",
       " {'id': '187948828886935557',\n",
       "  'guid': '1766c54a6f953d837c22df6374bc24c0',\n",
       "  'feedId': '55160895115655192',\n",
       "  'title': \"Southport survivor says scars a 'daily reminder'\",\n",
       "  'description': 'Jonathan Hayes Businessman Jonathan Hayes was injured as he tried to intervene in the Southport attack\\n\\nA man who was stabbed in the leg as he grappled with the Southport killer told a public inquiry his scars served as a \"daily reminder\" of the ordeal.\\n\\nJonathan Hayes was working in…',\n",
       "  'content': '<div><figure><div><div><img src=\"https://static.files.bbci.co.uk/bbcdotcom/web/20250828-055926-c20c0c03f5-2.28.1-2/grey-placeholder.png\" aria-label=\"image unavailable\"><img src=\"https://ichef.bbci.co.uk/news/480/cpsprodpb/c00d/live/094d7d30-8cc3-11f0-aff0-010617e09ce9.jpg.webp\" alt=\"Jonathan Hayes Jonathan Hayes, who has spiky brown hair, smiles at the camera while standing against a white background.\"><span>Jonathan Hayes</span></div></div><div>Businessman Jonathan Hayes was injured as he tried to intervene in the Southport attack</div></figure><div><p>A man who was stabbed in the leg as he grappled with the Southport killer told a public inquiry his scars served as a \"daily reminder\" of the ordeal. </p><p>Jonathan Hayes was working in his office when he heard the screams of children from a dance studio next door as Axel Rudakubana, then 17, launched a random knife attack on 29 July 2024. </p><p>Alice Aguiar, nine, Elsie Dot Stancombe, seven, and six-year-old Bebe King were murdered while eight other children were seriously wounded. </p><p>Mr Hayes described the impact of being caught up in the attack to a public inquiry held at Liverpool Town Hall earlier. </p></div><div><p>The first phase of the Southport Inquiry will examine the killer\\'s history and his dealings with relevant agencies, along with any missed opportunities to prevent what happened.</p><ul class=\"\"><li class=\"\"><a href=\"https://www.bbc.co.uk/news/live/clydlg2m4nrt\" class=\"\" target=\"_blank\">Live page recap: \\'There is no end to this,\\' mum of Southport survivor tells inquiry</a></li></ul><p>The attack unfolded in Hart Street shortly before midday at a Taylor Swift themed dance workshop during half-term as Rudakubana walked in and \"systematically\" began stabbing the children without warning. </p><p>Mr Hayes said he left his office to help but was \"immediately\" confronted by the attacker. </p></div><figure><div><div><img src=\"https://static.files.bbci.co.uk/bbcdotcom/web/20250828-055926-c20c0c03f5-2.28.1-2/grey-placeholder.png\" aria-label=\"image unavailable\"><img src=\"https://ichef.bbci.co.uk/news/480/cpsprodpb/6443/live/9d347450-8cc2-11f0-aff0-010617e09ce9.jpg.webp\" alt=\"Family photos A composite image of  Bebe King, Elsie Dot Stancombe and Alice Aguiar all in their school uniforms and smiling. \"><span>Family photos</span></div></div><div>The inquiry heard from parents of children injured in the attack in which Bebe King, Elsie Dot Stancombe, and Alice Aguiar were murdered</div></figure><div><p>\"My initial feeling was one of terror, seeing a man wielding a bloody knife,\" he said. </p><p>\"That quickly turned to horror as I witnessed critically injured children and began to realise what was happening.\"</p><p>He said he grappled with the knifeman and fell to the floor.</p><p>\"Initially I didn\\'t even know I had been stabbed but when I looked down, I saw blood pouring out of my leg,\" he said. </p><p>Mr Hayes said he feared he was going to die, but was helped by his work colleagues who closed the door of his office and applied pressure to the wound with a make-shift tourniquet fashioned from a bag strap.</p><p>\"I am pretty sure that saved my life\", he said. </p><p>Mr Hayes said he was eventually carried out of the building by paramedics, before being rushed to Aintree Hospital where he was met by his wife, Helen. </p></div><div><h2 class=\"\">\\'Could I have stopped it?\\'</h2></div><div><p>\"I don\\'t recall this, but Helen says that when I saw her, I started crying and I kept saying \\'I tried to help her, I tried to help her\\',\" Mr Hayes said.</p><p>\"Helen started crying too and just hugged me.\"</p><p>The inquiry also heard from the mother of child M, whose daughter survived without physical injuries but saw her friend killed. </p><p>The names of the surviving children caught up in the attack have been anonymised by the inquiry chairman to protect their privacy</p><p>Addressing the inquiry, child M\\'s mother said she was \"haunted\" by a decision to put a load of washing on before heading to collect her child and her child\\'s friend from the dance studio. </p><p>She said: \"It was such a small, ordinary act but one that I have regretted every day since.</p><p>\"Had I instead headed over earlier, could I have done something? Could I have helped? </p><p>\"Could I have stopped the hell that person was inflicting?\"</p><p>Instead, she said, she began to hear the sound of sirens as she approached Hart Street and was confronted by a scene \"out of a film set\" with wounded children lying on the ground. </p></div><figure><div><div><img src=\"https://static.files.bbci.co.uk/bbcdotcom/web/20250828-055926-c20c0c03f5-2.28.1-2/grey-placeholder.png\" aria-label=\"image unavailable\"><img src=\"https://ichef.bbci.co.uk/news/480/cpsprodpb/58f0/live/73994ee0-8cbd-11f0-b9c2-bd45560a4d8f.jpg.webp\" alt=\"PA Media A crowd of people dressed in bright colours blow bubbles into the air over floral tributes. A group of young girls in pink tops stand to one side of the flowers\"><span>PA Media</span></div></div><div>Hundreds of people blew bubbles into the air outside the Town Hall in Southport during a vigil last year</div></figure><div><p>She described how she rushed into the dance studio as she desperately tried to find her daughter. </p><p>\"I will not describe what I saw when I went up the stairs or into the studio, other than seeing the coward lying face down on the floor being arrested,\" she said. </p><p>\"But that scene is burnt into my memory and is a continual companion.\"</p><p>She eventually found her daughter sheltering in the house of a nearby resident. </p><p>Child M\\'s mother said the family have since left Southport due to their traumatic experiences. </p><p>She said her daughter finally opened up about her memories of that day shortly after the first year anniversary of the attack. </p><p>\"She knew she had to run and she did. She saved herself. She looked out for other children and they looked out for her.</p><p>\"The strength and bravery she showed, along with all of the girls there that day, should be remembered and acknowledged.\"</p></div><div><h2 class=\"\">\\'Lifetime of scars\\'</h2></div><div><p>The inquiry also heard from the mother of child U, who survived without physical injuries but was also deeply traumatised. </p><p>In a statement read by her solicitor, Nicola Ryan-Donnelly, she said her daughter \"still begs to sleep with Mummy\" at night. </p><p>\"But what she doesn\\'t know and I won\\'t allow myself to show her is that Mummy is scared too,\" she said.</p><p>\"Mummy sobs in bed at night. Mummy is woken by the nightmares, the visions of what she saw that day, of that man\\'s evil face.\"</p><p>She said she has found it difficult to share her family\\'s experiences because they have \"been made to feel lucky\" that her daughter survived. </p><p>However she said: \"Calling this \\'lucky\\' ignores the cost of carrying it.</p><p>\"It dismisses a lifetime of scars that you cannot see, and you cannot even begin to imagine.</p><p>\"Lucky would be having the little girl I had before.\"</p><p>The inquiry continues. </p></div><div></div><div><p><i id=\"user-content-listen-to-the-best-of-bbc-radio-merseyside-on\">Listen to the best of BBC Radio Merseyside on </i><a href=\"https://www.bbc.co.uk/sounds/curation/p0cjdwyw\" class=\"\" target=\"_blank\"><i id=\"user-content-bbc-sounds\">BBC Sounds</i></a><i id=\"user-content-and-follow-bbc-merseyside-on\"> and follow BBC Merseyside on </i><a href=\"https://www.facebook.com/bbcmerseyside\" class=\"\" target=\"_blank\"><i id=\"user-content-facebook\">Facebook</i></a><i id=\"user-content-,\">, </i><a href=\"https://x.com/bbcmerseyside\" class=\"\" target=\"_blank\"><i id=\"user-content-x\">X</i></a><i id=\"user-content-,-and\">, and </i><a href=\"https://www.instagram.com/bbcmerseyside/\" class=\"\" target=\"_blank\"><i id=\"user-content-instagram\">Instagram</i></a><i id=\"user-content-,-and-watch-bbc-north-west-tonight-on\">, and watch BBC North West Tonight on </i><a href=\"https://www.bbc.co.uk/programmes/b006pfjx\" class=\"\" target=\"_blank\"><i id=\"user-content-bbc-iplayer\">BBC iPlayer</i></a><i id=\"user-content-.\">.</i></p></div><div><div><span>More on this story</span><div><div><div><a href=\"https://www.bbc.co.uk/news/articles/ce83r3jjzjeo\" class=\"\" target=\"_blank\"><div><div><div><h2 class=\"\">Southport survivor fought to save others, says mum</h2></div></div></div></a></div></div></div></div></div></div>',\n",
       "  'author': None,\n",
       "  'url': 'https://www.bbc.com/news/articles/ckg3dg7k9qzo?at_medium=RSS&at_campaign=rss',\n",
       "  'media': None,\n",
       "  'attachments': None,\n",
       "  'extra': None,\n",
       "  'publishedAt': '2025-09-08T14:34:55.572+00:00',\n",
       "  'insertedAt': '2025-09-08T18:45:06.975+00:00',\n",
       "  'updateAt': '2025-09-15T00:11:34.199378',\n",
       "  'feed': {'id': '55160895115655192',\n",
       "   'image': None,\n",
       "   'title': 'BBC/UK',\n",
       "   'author': None,\n",
       "   'platform': None,\n",
       "   'author_id': None}},\n",
       " {'id': '187948993844548608',\n",
       "  'guid': 'https://twitter.com/bboczeng/status/1965101674403692696',\n",
       "  'feedId': '41499959813561344',\n",
       "  'title': 'TSLA Boom 😅😅😅',\n",
       "  'description': 'TSLA Boom\\n\\n😅😅😅',\n",
       "  'content': 'TSLA<br><br>Boom<br><br>😅😅😅<br><img width=\"1320\" height=\"1358\" style=\"\" src=\"https://pbs.twimg.com/media/G0VxjxJbQAAPNJy?format=jpg&#x26;name=orig\">',\n",
       "  'author': '勃勃OC',\n",
       "  'url': 'https://x.com/bboczeng/status/1965101674403692696',\n",
       "  'media': None,\n",
       "  'attachments': None,\n",
       "  'extra': None,\n",
       "  'publishedAt': '2025-09-08T17:15:23.087+00:00',\n",
       "  'insertedAt': '2025-09-08T18:45:46.931+00:00',\n",
       "  'updateAt': '2025-09-15T00:11:34.199378',\n",
       "  'feed': {'id': '41499959813561344',\n",
       "   'image': 'https://pbs.twimg.com/profile_images/1830797876731224064/bg8OYzEG.jpg',\n",
       "   'title': 'Twitter @勃勃OC',\n",
       "   'author': None,\n",
       "   'platform': 'Twitter',\n",
       "   'author_id': None}},\n",
       " {'id': '187983044601145356',\n",
       "  'guid': 'f_vert_brk_tdy_flub_alcaraz_250908',\n",
       "  'feedId': '61416344560099359',\n",
       "  'title': \"Sabalenka almost calls Alcaraz his rival's name\",\n",
       "  'description': \"Sabalenka almost calls Alcaraz his rival's name\",\n",
       "  'content': \"Sabalenka almost calls Alcaraz his rival's name\",\n",
       "  'author': None,\n",
       "  'url': 'https://www.nbcnews.com/video/shorts/sabalenka-almost-calls-alcaraz-his-rival-s-name-247086661851',\n",
       "  'media': '[]',\n",
       "  'attachments': None,\n",
       "  'extra': None,\n",
       "  'publishedAt': '2025-09-08T16:57:10.813+00:00',\n",
       "  'insertedAt': '2025-09-08T21:01:05.182+00:00',\n",
       "  'updateAt': '2025-09-15T00:11:34.199378',\n",
       "  'feed': {'id': '61416344560099359',\n",
       "   'image': 'https://media-cldnry.s-nbcnews.com/image/upload/MSNBC/Components/Media/NBC-promo-graphics/nbc-news.png',\n",
       "   'title': 'NBC News Top Stories',\n",
       "   'author': None,\n",
       "   'platform': None,\n",
       "   'author_id': None}},\n",
       " {'id': '187890056852252673',\n",
       "  'guid': 'https://www.washingtonpost.com/world/2025/09/08/tom-phillips-new-zealand-fugitive/',\n",
       "  'feedId': '69325209531409408',\n",
       "  'title': 'Fugitive dad killed in police shootout after years on the run with 3 kids',\n",
       "  'description': 'Tom Phillips went missing with his children in 2021, sparking a New Zealand search. His children were found unharmed.',\n",
       "  'content': 'Tom Phillips went missing with his children in 2021, sparking a New Zealand search. His children were found unharmed.',\n",
       "  'author': 'Annabelle Timsit',\n",
       "  'url': 'https://www.washingtonpost.com/world/2025/09/08/tom-phillips-new-zealand-fugitive/',\n",
       "  'media': '[]',\n",
       "  'attachments': None,\n",
       "  'extra': None,\n",
       "  'publishedAt': '2025-09-08T14:17:43.498+00:00',\n",
       "  'insertedAt': '2025-09-08T14:51:34.894+00:00',\n",
       "  'updateAt': '2025-09-15T00:11:34.199378',\n",
       "  'feed': {'id': '69325209531409408',\n",
       "   'image': None,\n",
       "   'title': 'World',\n",
       "   'author': None,\n",
       "   'platform': None,\n",
       "   'author_id': None}},\n",
       " {'id': '187950212457649154',\n",
       "  'guid': 'https://www.washingtonpost.com/national-security/2025/09/08/puerto-rico-hegseth-cartels/',\n",
       "  'feedId': '69325209531409408',\n",
       "  'title': 'Hegseth in Puerto Rico as Pentagon eyes island for military usage',\n",
       "  'description': 'The unannounced trip coincides with the Trump administration’s plan to dramatically ramp up operations targeting Latin American drug cartels.',\n",
       "  'content': 'The unannounced trip coincides with the Trump administration’s plan to dramatically ramp up operations targeting Latin American drug cartels.',\n",
       "  'author': 'Dan Lamothe, Noah Robertson, Tara  Copp',\n",
       "  'url': 'https://www.washingtonpost.com/national-security/2025/09/08/puerto-rico-hegseth-cartels/',\n",
       "  'media': '[]',\n",
       "  'attachments': None,\n",
       "  'extra': None,\n",
       "  'publishedAt': '2025-09-08T17:58:48.069+00:00',\n",
       "  'insertedAt': '2025-09-08T18:50:37.435+00:00',\n",
       "  'updateAt': '2025-09-15T00:11:34.199378',\n",
       "  'feed': {'id': '69325209531409408',\n",
       "   'image': None,\n",
       "   'title': 'World',\n",
       "   'author': None,\n",
       "   'platform': None,\n",
       "   'author_id': None}}]"
      ]
     },
     "execution_count": 30,
     "metadata": {},
     "output_type": "execute_result"
    }
   ],
   "source": [
    "res = (\n",
    "    supabase.table(\"entry\")\n",
    "    .select(\n",
    "        \"*,feed(id,platform,image,title,author_id,author(id,name))\",\n",
    "        count=\"exact\",\n",
    "    )\n",
    "    .limit(10)\n",
    "    .execute()\n",
    ")\n",
    "res.data"
   ]
  },
  {
   "cell_type": "code",
   "execution_count": 31,
   "metadata": {},
   "outputs": [],
   "source": [
    "from typing import List\n",
    "\n",
    "from pydantic import ConfigDict\n",
    "\n",
    "\n",
    "class entry_author(BaseModel):\n",
    "    id: str\n",
    "    name: Optional[str] = None\n",
    "    avatar: Optional[str] = None\n",
    "    describe: Optional[str] = None\n",
    "\n",
    "\n",
    "class entry_feed(BaseModel):\n",
    "    author_id: Optional[str]\n",
    "    image: Optional[str]\n",
    "    title: Optional[str]\n",
    "    platform: Optional[str]\n",
    "    author: Optional[entry_author]\n",
    "\n",
    "\n",
    "class feedentry(BaseModel):\n",
    "    model_config = ConfigDict(\n",
    "        # 允许原始 datetime 字符串自动解析\n",
    "        from_attributes=True,\n",
    "        # 序列化时统一用东八区\n",
    "        json_encoders={\n",
    "            datetime: lambda v: v.astimezone(\n",
    "                datetime.timezone(datetime.timedelta(hours=8))\n",
    "            ).strftime(\"%Y-%m-%d %H:%M:%S\")\n",
    "        },\n",
    "    )\n",
    "\n",
    "    url: str\n",
    "    id: str\n",
    "    guid: str\n",
    "    feedId: str\n",
    "    title: Optional[str]\n",
    "    description: Optional[str]\n",
    "    content: Optional[str]\n",
    "    author: Optional[str]\n",
    "    media: Optional[str]\n",
    "    attachments: Optional[List]\n",
    "    extra: Optional[dict]\n",
    "    publishedAt: datetime\n",
    "    insertedAt: datetime\n",
    "    updateAt: datetime\n",
    "    feed: Optional[entry_feed]"
   ]
  },
  {
   "cell_type": "code",
   "execution_count": 32,
   "metadata": {},
   "outputs": [
    {
     "data": {
      "text/plain": [
       "feedentry(url='https://sc.macromicro.me/blog/mm-weekly-pre-market-nfp-miss-below-expectations-this-week-key-data-cpi-arrives', id='187494575577190400', guid='post-1241', feedId='62295715074255883', title='【MM一周盘前】非农暴雷低于预期，本周魔王数据 CPI 登场！', description='【 MM 一周盘前】8 月非农仅增 2.2 万人！美联储全年降息预期飙升至三码，9 月降息已成定局！美国取消台积电南京厂 VEU 资格，MM 研究员带你回顾过往一周发生的大事，3 分钟速读市场！ 【全球产业决策平台】我们近期于产业决策平台新增国防 / 军工产业专区！结合 300+ 独家指标与 5000+ 美股财报，带你抢先洞察全球局势，掌握投资先机！ 上週全球股市涨跌互见，美股在降息预期激励下，S&amp;P 500 一度创下历史新高。亚股方面出现轮动，陆股涨幅休息，印度股市止稳反弹，其余亚股上涨近 1% ~ 2% 不等，欧股则小幅下跌，于 6…', content='【 MM 一周盘前】8 月非农仅增 2.2 万人！美联储全年降息预期飙升至三码，9 月降息已成定局！美国取消台积电南京厂 VEU 资格，MM 研究员带你回顾过往一周发生的大事，3 分钟速读市场！\\n【全球产业决策平台】我们近期于产业决策平台新增国防 / 军工产业专区！结合 300+ 独家指标与 5000+ 美股财报，带你抢先洞察全球局势，掌握投资先机！\\n\\n\\n\\n\\n上週全球股市涨跌互见，美股在降息预期激励下，S&#x26;amp;P 500 一度创下历史新高。亚股方面出现轮动，陆股涨幅休息，印度股市止稳反弹，其余亚股上涨近 1% ~ 2% 不等，欧股则小幅下跌，于 6 月后呈现盘整格局。值得留意得是，上週全球债市走势动盪，多国 30 年期国债收益率于周间走高，所幸週五非农公佈不如预期数字后，FedWatch 降息机率大升，美国 10 年期国债收益率回落至四月后新低，适当缓解利率压力，与此同时，金价也终于突破区间，创下新高。\\n\\n资料统计期间：2025/8/29 ~ 2025/9/5\\n备註：美金 / 台币、美金 / 日圆属于美式报价，当数字下跌代表台币、日圆相对美元升值\\n\\n\\n【美国】 非农再度暴雷！美联储 9 月降息已成定局\\n\\n\\n美国 8 月 非农就业 月增 2.2 万（前 7.9 万）大幅低于预期，细项中， 教育医疗仍是主要支撑项目，但月增也放缓至 4.6 万（前 7.7 万），此外，全部 12 个产业有 8 个出现月减，突显整体企业招聘需求的脆弱。相对的，失业率 略为回升至 4.3%（前 4.2%）符合市场预期，表现相对稳定，主因劳动供给一同放缓，且 裁员 依旧可控，让就业市场得以暂时维持平衡，静待后续降息。\\n\\n\\n本次数据走弱进一步巩固市场对降息的期待，9/5 数据公佈当日，FedWatch 预期 9 月降息机率达到近 9 成，2025 降息幅度从 2 码扩大至 3 码，市场对 2026 年同步预期续降 3 码幅度，终点利率有望来到 3% 。\\n\\n\\n此外，9/9（二）BLS 即将公佈非农就业初步基准修订结果，目前非农就业与截至 2024Q4 的 QCEW 就业人数相比明显较高，预计非农就业人数也将出现下修，在此背景下，除非下周 9/11 开出的 CPI 数据大超预期，否则美联储 9 月降息 1 码已成定局。\\n\\n\\n何为基准修订？推荐付费阅读：【行情快报】美国经济脆弱性上升，留意就业市场两大关键！\\n\\n\\n\\n【製造业】 8 月美中台製造业 PMI 公佈！好坏参半\\n\\n\\n美国 8 月 製造业 PMI 上升至 48.7（前 48），略低于预期且处于收缩，新订单今年首度回升至扩张区间的 51.4（前 47.1），但生产滑落至 47.8（前 51.4），主要来自关税不确定性带来的成本压力。\\n\\n\\n台湾 8 月 製造业 PMI 小幅减速至 47.9（前 48）， 厂商对未来六个月展望同步回落至 37.6（前 38.6），产业间表现不均，反映对等关税正式落地后，所造成的产业分岐加剧。\\n\\n\\n中国 8 月 官方製造业 PMI 微幅上升至 49.4（前 49.3），生产经营预期回升至 53.7（前 52.6），且财新 PMI 回归 50.5（前 49.5）扩张区，中美关税休战、反内卷改善价格指标、高技术製造业续强三大因素，共同支撑厂商预期。\\n\\n\\n总体而言，我们持续看到关税政策对製造业造成的波动，对等关税在 8/7 确定课征后，提前拉货需求也暂告一段落，所幸台、美、中库存端都位于低檔，使得整体製造业周期有所支撑。\\n\\n\\n进阶付费阅读：【行情快报】关税影响来袭！高频仪表盘带你掌握全球变化\\n\\n\\n\\n\\n\\n\\n【半导体】美国取消台积电南京厂 VEU 资格\\n\\n\\n美国商务部宣布，取消台积电的南京厂「经认证终端用户」（VEU）资格，代表该工厂原本享有的快速购买先进设备的通道，将在 2025 年 12 月 31 日后终止，未来改为「逐案申请审核制」，该行动可视作是对中国设备获取能力的打击。\\n\\n\\n设备禁令最后一次升级是在去年 12/2，美国前总统拜登的任期，其升级了长臂管辖范围，受管製的设备只要部件或技术有任何成分源自美国，即使最终产品在第三国生产，只要被出口到中国就要受禁令管制，当时我们在 短评 分析中就提出，这可能对台、韩、日等地的半导体企业造成潜在影响。\\n\\n\\n但我们看到，中国本土设计的 AI 处理器如寒武纪、华为，开始在重重禁令下崭露头角，在中国市场中逐步蚕食美系处理器市占率，究竟哪些因素，促成中国对算力国产化的极致追求？中国本土 AI 处理器就此迎头赶上美国了吗？中国 AI 绝地突围的凭藉为何？我们在上週新发布的报告中，为你详细解读。\\n\\n\\n进阶付费阅读：【行情快报】中国 AI 处理器大爆发：中美算力突围战正式开打！\\n\\n\\n\\n\\n\\n \\n本周将公佈台湾出口（9/9 二）、美国 CPI（9/11 四）、三大能源机构月报（9/10 、 9/11 三、四）、欧元区利率决策（9/11 四）。', author='MacroMicro', media='[]', attachments=None, extra=None, publishedAt=datetime.datetime(2025, 9, 7, 12, 26, 17, 460000, tzinfo=TzInfo(UTC)), insertedAt=datetime.datetime(2025, 9, 7, 12, 40, 5, 287000, tzinfo=TzInfo(UTC)), updateAt=datetime.datetime(2025, 9, 15, 0, 11, 34, 199378), feed=entry_feed(author_id=None, image=None, title=' MacroMicro 财经M平方 ', platform=None, author=None))"
      ]
     },
     "execution_count": 32,
     "metadata": {},
     "output_type": "execute_result"
    }
   ],
   "source": [
    "entry_list = [feedentry(**entry) for entry in res.data]\n",
    "entry_list[0]"
   ]
  },
  {
   "cell_type": "code",
   "execution_count": 29,
   "metadata": {},
   "outputs": [
    {
     "data": {
      "text/plain": [
       "entry_feed(author_id='1', image='https://tvax4.sinaimg.cn/crop.0.0.350.350.180/008vOXu3ly8hb838iq9rgj309q09q74k.jpg?KID=imgbed,tva&Expires=1758941052&ssig=f6Yt5ZveSC', title='洪灝的宏观策略的微博', platform='微博', author=entry_author(id='1', name='洪灏', avatar=None, describe=None))"
      ]
     },
     "execution_count": 29,
     "metadata": {},
     "output_type": "execute_result"
    }
   ],
   "source": [
    "entry_list[2].feed"
   ]
  },
  {
   "cell_type": "code",
   "execution_count": null,
   "metadata": {},
   "outputs": [],
   "source": []
  }
 ],
 "metadata": {
  "kernelspec": {
   "display_name": "aladdin",
   "language": "python",
   "name": "python3"
  },
  "language_info": {
   "codemirror_mode": {
    "name": "ipython",
    "version": 3
   },
   "file_extension": ".py",
   "mimetype": "text/x-python",
   "name": "python",
   "nbconvert_exporter": "python",
   "pygments_lexer": "ipython3",
   "version": "3.11.11"
  }
 },
 "nbformat": 4,
 "nbformat_minor": 2
}
